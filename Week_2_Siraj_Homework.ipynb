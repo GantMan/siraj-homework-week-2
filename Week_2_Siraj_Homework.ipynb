{
  "nbformat": 4,
  "nbformat_minor": 0,
  "metadata": {
    "colab": {
      "name": "Week 2 Siraj Homework.ipynb",
      "version": "0.3.2",
      "provenance": [],
      "collapsed_sections": []
    },
    "kernelspec": {
      "name": "python3",
      "display_name": "Python 3"
    }
  },
  "cells": [
    {
      "cell_type": "markdown",
      "metadata": {
        "id": "c-lpGe_f_jOc",
        "colab_type": "text"
      },
      "source": [
        "# Week 2 - Homework\n",
        "**Homework**\n",
        "\n",
        "The homework for this week is to build 3 different types of regression lines to predict stock prices using Python, then print out the prediction for the best performing one.\n",
        "\n",
        "**Step 1 -** Go to Yahoo Finance and find a stock price that you want to predict. Click on historical data, then download the CSV of that stocks price history https://finance.yahoo.com/quote/AAPL/history?p=AAPL  \n",
        "\n",
        "**Step 2 -** Use Scikit learn to try out 3 different types of regression models to predict the price of that stock for a future date. See this https://towardsdatascience.com/in-12-minutes-stocks-analysis-with-pandas-and-scikit-learn-a8d8a7b50ee7  as an example and the scikit learn docs to see all the different types of regression models you can easily build (i.e quadratic, linear, lasso, ridge, etc.)\n",
        "\n",
        "**Step 3 -** Visualize your result using matplotlib or another plotting library of your choice\n",
        "\n",
        "Once your code is complete, upload it to GitHub and send the github link to gradedhomeworkassignments@gmail.com with your full name as the subject line.  Good luck!\n",
        "\n",
        "BLOG REFERENCE CODE: https://github.com/VincentTatan/PythonAnalytics"
      ]
    },
    {
      "cell_type": "code",
      "metadata": {
        "id": "GTqX1D29_NdC",
        "colab_type": "code",
        "colab": {
          "base_uri": "https://localhost:8080/",
          "height": 35
        },
        "outputId": "e03db0ff-2d10-48a2-f4df-749ded9db3fe"
      },
      "source": [
        "!ls ."
      ],
      "execution_count": 107,
      "outputs": [
        {
          "output_type": "stream",
          "text": [
            "sample_data\n"
          ],
          "name": "stdout"
        }
      ]
    },
    {
      "cell_type": "markdown",
      "metadata": {
        "id": "Jpi-ISd6CCLD",
        "colab_type": "text"
      },
      "source": [
        "Read apple dataset from yahoo via `pandas_datareader`"
      ]
    },
    {
      "cell_type": "code",
      "metadata": {
        "id": "oQ-MmwzH_XSM",
        "colab_type": "code",
        "colab": {
          "base_uri": "https://localhost:8080/",
          "height": 228
        },
        "outputId": "c92695cc-cd76-472f-8044-dbbaf93d039e"
      },
      "source": [
        "import pandas as pd\n",
        "import datetime\n",
        "import pandas_datareader.data as web\n",
        "from pandas import Series, DataFrame\n",
        "\n",
        "\n",
        "start = datetime.datetime(2010, 1, 1)\n",
        "end = datetime.datetime(2017, 1, 11)\n",
        "\n",
        "df = web.DataReader(\"AAPL\", 'yahoo', start, end)\n",
        "df.tail()"
      ],
      "execution_count": 108,
      "outputs": [
        {
          "output_type": "execute_result",
          "data": {
            "text/html": [
              "<div>\n",
              "<style scoped>\n",
              "    .dataframe tbody tr th:only-of-type {\n",
              "        vertical-align: middle;\n",
              "    }\n",
              "\n",
              "    .dataframe tbody tr th {\n",
              "        vertical-align: top;\n",
              "    }\n",
              "\n",
              "    .dataframe thead th {\n",
              "        text-align: right;\n",
              "    }\n",
              "</style>\n",
              "<table border=\"1\" class=\"dataframe\">\n",
              "  <thead>\n",
              "    <tr style=\"text-align: right;\">\n",
              "      <th></th>\n",
              "      <th>High</th>\n",
              "      <th>Low</th>\n",
              "      <th>Open</th>\n",
              "      <th>Close</th>\n",
              "      <th>Volume</th>\n",
              "      <th>Adj Close</th>\n",
              "    </tr>\n",
              "    <tr>\n",
              "      <th>Date</th>\n",
              "      <th></th>\n",
              "      <th></th>\n",
              "      <th></th>\n",
              "      <th></th>\n",
              "      <th></th>\n",
              "      <th></th>\n",
              "    </tr>\n",
              "  </thead>\n",
              "  <tbody>\n",
              "    <tr>\n",
              "      <th>2017-01-05</th>\n",
              "      <td>116.860001</td>\n",
              "      <td>115.809998</td>\n",
              "      <td>115.919998</td>\n",
              "      <td>116.610001</td>\n",
              "      <td>22193600.0</td>\n",
              "      <td>111.727715</td>\n",
              "    </tr>\n",
              "    <tr>\n",
              "      <th>2017-01-06</th>\n",
              "      <td>118.160004</td>\n",
              "      <td>116.470001</td>\n",
              "      <td>116.779999</td>\n",
              "      <td>117.910004</td>\n",
              "      <td>31751900.0</td>\n",
              "      <td>112.973305</td>\n",
              "    </tr>\n",
              "    <tr>\n",
              "      <th>2017-01-09</th>\n",
              "      <td>119.430000</td>\n",
              "      <td>117.940002</td>\n",
              "      <td>117.949997</td>\n",
              "      <td>118.989998</td>\n",
              "      <td>33561900.0</td>\n",
              "      <td>114.008080</td>\n",
              "    </tr>\n",
              "    <tr>\n",
              "      <th>2017-01-10</th>\n",
              "      <td>119.379997</td>\n",
              "      <td>118.300003</td>\n",
              "      <td>118.769997</td>\n",
              "      <td>119.110001</td>\n",
              "      <td>24462100.0</td>\n",
              "      <td>114.123047</td>\n",
              "    </tr>\n",
              "    <tr>\n",
              "      <th>2017-01-11</th>\n",
              "      <td>119.930000</td>\n",
              "      <td>118.599998</td>\n",
              "      <td>118.739998</td>\n",
              "      <td>119.750000</td>\n",
              "      <td>27588600.0</td>\n",
              "      <td>114.736275</td>\n",
              "    </tr>\n",
              "  </tbody>\n",
              "</table>\n",
              "</div>"
            ],
            "text/plain": [
              "                  High         Low  ...      Volume   Adj Close\n",
              "Date                                ...                        \n",
              "2017-01-05  116.860001  115.809998  ...  22193600.0  111.727715\n",
              "2017-01-06  118.160004  116.470001  ...  31751900.0  112.973305\n",
              "2017-01-09  119.430000  117.940002  ...  33561900.0  114.008080\n",
              "2017-01-10  119.379997  118.300003  ...  24462100.0  114.123047\n",
              "2017-01-11  119.930000  118.599998  ...  27588600.0  114.736275\n",
              "\n",
              "[5 rows x 6 columns]"
            ]
          },
          "metadata": {
            "tags": []
          },
          "execution_count": 108
        }
      ]
    },
    {
      "cell_type": "code",
      "metadata": {
        "id": "YDrxHVFkCAhx",
        "colab_type": "code",
        "colab": {}
      },
      "source": [
        "close_px = df['Adj Close']\n",
        "mavg = close_px.rolling(window=100).mean()"
      ],
      "execution_count": 0,
      "outputs": []
    },
    {
      "cell_type": "code",
      "metadata": {
        "id": "UbjR5uEhDsbj",
        "colab_type": "code",
        "colab": {
          "base_uri": "https://localhost:8080/",
          "height": 440
        },
        "outputId": "e1585ab8-68cd-40fc-abb1-23d9aa6cfa27"
      },
      "source": [
        "%matplotlib inline\n",
        "import matplotlib.pyplot as plt\n",
        "from matplotlib import style\n",
        "\n",
        "# Adjusting the size of matplotlib\n",
        "import matplotlib as mpl\n",
        "mpl.rc('figure', figsize=(8, 7))\n",
        "mpl.__version__\n",
        "\n",
        "# Adjusting the style of matplotlib\n",
        "style.use('ggplot')\n",
        "\n",
        "close_px.plot(label='AAPL')\n",
        "mavg.plot(label='mavg')\n",
        "plt.legend()"
      ],
      "execution_count": 110,
      "outputs": [
        {
          "output_type": "execute_result",
          "data": {
            "text/plain": [
              "<matplotlib.legend.Legend at 0x7f2037560be0>"
            ]
          },
          "metadata": {
            "tags": []
          },
          "execution_count": 110
        },
        {
          "output_type": "display_data",
          "data": {
            "image/png": "[encoded data removed]",
            "text/plain": [
              "<Figure size 576x504 with 1 Axes>"
            ]
          },
          "metadata": {
            "tags": []
          }
        }
      ]
    },
    {
      "cell_type": "markdown",
      "metadata": {
        "id": "V3sHoQeiEot9",
        "colab_type": "text"
      },
      "source": [
        "## Engineer some stock features\n"
      ]
    },
    {
      "cell_type": "code",
      "metadata": {
        "id": "3-YOxMoWEn91",
        "colab_type": "code",
        "colab": {}
      },
      "source": [
        "dfreg = df.loc[:,['Adj Close', 'Volume']]\n",
        "dfreg['HL_PCT'] = (df['High'] - df['Low']) / df['Close'] * 100.0\n",
        "dfreg['PCT_change'] = (df['Close'] - df['Open']) / df['Open'] * 100.0"
      ],
      "execution_count": 0,
      "outputs": []
    },
    {
      "cell_type": "markdown",
      "metadata": {
        "id": "APzB0Yk0Fvvo",
        "colab_type": "text"
      },
      "source": [
        "1. Drop missing value\n",
        "2. Separating the label here, we want to predict the AdjClose\n",
        "3. Scale the X so that everyone can have the same distribution for linear regression\n",
        "4. Finally We want to find Data Series of late X and early X (train) for model generation and evaluation\n",
        "5. Separate label and identify it as y\n",
        "6. Separation of training and testing of model by cross validation train test split\n",
        "\n",
        "\n",
        "\n"
      ]
    },
    {
      "cell_type": "code",
      "metadata": {
        "id": "yQsBxfhoD0_s",
        "colab_type": "code",
        "colab": {}
      },
      "source": [
        "import math\n",
        "import numpy as np\n",
        "from sklearn import preprocessing\n",
        "\n",
        "# Drop missing value\n",
        "dfreg.fillna(value=-99999, inplace=True)\n",
        "# We want to separate 1 percent of the data to forecast\n",
        "forecast_out = int(math.ceil(0.01 * len(dfreg)))\n",
        "# Separating the label here, we want to predict the AdjClose\n",
        "forecast_col = 'Adj Close'\n",
        "dfreg['label'] = dfreg[forecast_col].shift(-forecast_out)\n",
        "X = np.array(dfreg.drop(['label'], 1))\n",
        "# Scale the X so that everyone can have the same distribution for linear regression\n",
        "X = preprocessing.scale(X)\n",
        "# Finally We want to find Data Series of late X and early X (train) for model generation and evaluation\n",
        "X_lately = X[-forecast_out:]\n",
        "X = X[:-forecast_out]\n",
        "# Separate label and identify it as y\n",
        "y = np.array(dfreg['label'])\n",
        "y = y[:-forecast_out]"
      ],
      "execution_count": 0,
      "outputs": []
    },
    {
      "cell_type": "markdown",
      "metadata": {
        "id": "G69JvxkdTUPz",
        "colab_type": "text"
      },
      "source": [
        "Make X and Y batchs"
      ]
    },
    {
      "cell_type": "code",
      "metadata": {
        "id": "KkEoQXVATX-N",
        "colab_type": "code",
        "colab": {}
      },
      "source": [
        "from sklearn.model_selection import train_test_split\n",
        "X_train, X_test, y_train, y_test = train_test_split(X, y, test_size=0.2)"
      ],
      "execution_count": 0,
      "outputs": []
    },
    {
      "cell_type": "markdown",
      "metadata": {
        "id": "BNHWxw-xJOGU",
        "colab_type": "text"
      },
      "source": [
        "## Time to start predicting"
      ]
    },
    {
      "cell_type": "code",
      "metadata": {
        "id": "HzLEQ69HIVsJ",
        "colab_type": "code",
        "colab": {}
      },
      "source": [
        "from sklearn.linear_model import LinearRegression\n",
        "from sklearn.neighbors import KNeighborsRegressor\n",
        "\n",
        "from sklearn.linear_model import Ridge\n",
        "from sklearn.preprocessing import PolynomialFeatures\n",
        "from sklearn.pipeline import make_pipeline"
      ],
      "execution_count": 0,
      "outputs": []
    },
    {
      "cell_type": "code",
      "metadata": {
        "id": "kv9XjDpEJUR3",
        "colab_type": "code",
        "colab": {
          "base_uri": "https://localhost:8080/",
          "height": 173
        },
        "outputId": "5b650584-06e3-4612-8138-005de3de526c"
      },
      "source": [
        "# Linear regression\n",
        "clfreg = LinearRegression(n_jobs=-1)\n",
        "clfreg.fit(X_train, y_train)\n",
        "# Quadratic Regression 2\n",
        "clfpoly2 = make_pipeline(PolynomialFeatures(2), Ridge())\n",
        "clfpoly2.fit(X_train, y_train)\n",
        "\n",
        "# Quadratic Regression 3\n",
        "clfpoly3 = make_pipeline(PolynomialFeatures(3), Ridge())\n",
        "clfpoly3.fit(X_train, y_train)"
      ],
      "execution_count": 115,
      "outputs": [
        {
          "output_type": "execute_result",
          "data": {
            "text/plain": [
              "Pipeline(memory=None,\n",
              "         steps=[('polynomialfeatures',\n",
              "                 PolynomialFeatures(degree=3, include_bias=True,\n",
              "                                    interaction_only=False, order='C')),\n",
              "                ('ridge',\n",
              "                 Ridge(alpha=1.0, copy_X=True, fit_intercept=True,\n",
              "                       max_iter=None, normalize=False, random_state=None,\n",
              "                       solver='auto', tol=0.001))],\n",
              "         verbose=False)"
            ]
          },
          "metadata": {
            "tags": []
          },
          "execution_count": 115
        }
      ]
    },
    {
      "cell_type": "markdown",
      "metadata": {
        "id": "2qpHEygSSfRR",
        "colab_type": "text"
      },
      "source": [
        "Adding KNN"
      ]
    },
    {
      "cell_type": "code",
      "metadata": {
        "id": "-zNZA8GYJiY0",
        "colab_type": "code",
        "colab": {
          "base_uri": "https://localhost:8080/",
          "height": 69
        },
        "outputId": "0dad122f-05a4-441e-d7ea-43781b78ab60"
      },
      "source": [
        "# KNN Regression\n",
        "clfknn = KNeighborsRegressor(n_neighbors=2)\n",
        "clfknn.fit(X_train, y_train)"
      ],
      "execution_count": 116,
      "outputs": [
        {
          "output_type": "execute_result",
          "data": {
            "text/plain": [
              "KNeighborsRegressor(algorithm='auto', leaf_size=30, metric='minkowski',\n",
              "                    metric_params=None, n_jobs=None, n_neighbors=2, p=2,\n",
              "                    weights='uniform')"
            ]
          },
          "metadata": {
            "tags": []
          },
          "execution_count": 116
        }
      ]
    },
    {
      "cell_type": "markdown",
      "metadata": {
        "id": "UFy5OZs_So6b",
        "colab_type": "text"
      },
      "source": [
        "Evaluate Predictions"
      ]
    },
    {
      "cell_type": "code",
      "metadata": {
        "id": "B3cj_Q0aSiKi",
        "colab_type": "code",
        "colab": {}
      },
      "source": [
        "confidencereg = clfreg.score(X_test, y_test)\n",
        "confidencepoly2 = clfpoly2.score(X_test,y_test)\n",
        "confidencepoly3 = clfpoly3.score(X_test,y_test)\n",
        "confidenceknn = clfknn.score(X_test, y_test)"
      ],
      "execution_count": 0,
      "outputs": []
    },
    {
      "cell_type": "markdown",
      "metadata": {
        "id": "dQQGNbQEVRkO",
        "colab_type": "text"
      },
      "source": [
        "Predict lately with linear regression\n",
        "\n"
      ]
    },
    {
      "cell_type": "code",
      "metadata": {
        "id": "CVvc9WQTU0Dl",
        "colab_type": "code",
        "colab": {
          "base_uri": "https://localhost:8080/",
          "height": 1000
        },
        "outputId": "f94cad49-662c-4d11-ceb1-9f3c2ba6f4e8"
      },
      "source": [
        "forecast_set = clfreg.predict(X_lately)\n",
        "dfreg['Forecast'] = np.nan\n",
        "print(dfreg)"
      ],
      "execution_count": 118,
      "outputs": [
        {
          "output_type": "stream",
          "text": [
            "             Adj Close       Volume    HL_PCT  PCT_change       label  Forecast\n",
            "Date                                                                           \n",
            "2010-01-04   26.681330  123432400.0  0.990606    0.271752   23.944765       NaN\n",
            "2010-01-05   26.727465  150476200.0  1.091520   -0.102519   24.277634       NaN\n",
            "2010-01-06   26.302330  138040000.0  2.123523   -1.590633   24.418516       NaN\n",
            "2010-01-07   26.253704  119282800.0  1.400893   -0.552538   24.838663       NaN\n",
            "2010-01-08   26.428249  111902700.0  1.386924    0.798864   23.943514       NaN\n",
            "2010-01-11   26.195114  115557400.0  2.165531   -1.264095   24.368649       NaN\n",
            "2010-01-12   25.897146  148614900.0  1.612746   -0.702707   24.201584       NaN\n",
            "2010-01-13   26.262434  151473000.0  3.242343    1.337373   24.459652       NaN\n",
            "2010-01-14   26.110340  108223500.0  0.687577   -0.323641   24.326265       NaN\n",
            "2010-01-15   25.673977  148516900.0  2.782498   -2.370452   24.768839       NaN\n",
            "2010-01-19   26.809748  182501900.0  3.696984    3.220848   24.982042       NaN\n",
            "2010-01-20   26.397085  153038200.0  2.857409   -1.479692   25.358553       NaN\n",
            "2010-01-21   25.940775  152038600.0  2.931702   -1.890795   25.252583       NaN\n",
            "2010-01-22   24.654148  220441900.0  5.228822   -4.366963   25.299952       NaN\n",
            "2010-01-25   25.317411  266424900.0  2.220907    0.276529   25.142870       NaN\n",
            "2010-01-26   25.675222  466777500.0  5.404487   -0.004856   24.987026       NaN\n",
            "2010-01-27   25.917091  430642100.0  5.315566    0.497950   24.568123       NaN\n",
            "2010-01-28   24.846146  293375600.0  3.412117   -2.752164   25.016949       NaN\n",
            "2010-01-29   23.944765  311488100.0  6.222010   -4.485773   25.184011       NaN\n",
            "2010-02-01   24.277634  187469100.0  2.413599    1.226803   25.510654       NaN\n",
            "2010-02-02   24.418516  174585600.0  1.501072   -0.025523   26.055475       NaN\n",
            "2010-02-03   24.838663  153832000.0  2.901169    2.080238   26.038023       NaN\n",
            "2010-02-04   23.943514  189413000.0  3.540742   -2.378895   26.097862       NaN\n",
            "2010-02-05   24.368649  212576700.0  2.634809    1.469137   26.269913       NaN\n",
            "2010-02-08   24.201584  119567700.0  1.998768   -0.802294   27.297226       NaN\n",
            "2010-02-09   24.459652  158221700.0  1.401700   -0.117092   27.313427       NaN\n",
            "2010-02-10   24.326265   92590400.0  1.199262   -0.393073   27.804647       NaN\n",
            "2010-02-11   24.768839  137586400.0  2.864051    1.944783   28.031548       NaN\n",
            "2010-02-12   24.982042  163867200.0  3.064175    1.145827   28.113834       NaN\n",
            "2010-02-16   25.358553  135934400.0  1.066862    0.722984   28.250973       NaN\n",
            "...                ...          ...       ...         ...         ...       ...\n",
            "2016-11-29  106.793365   28528800.0  1.758478    0.613829  111.641487       NaN\n",
            "2016-11-30  105.892700   36162300.0  1.746291   -0.967744  112.350517       NaN\n",
            "2016-12-01  104.905830   37086900.0  1.744455   -0.797323  111.871452       NaN\n",
            "2016-12-02  105.298676   26528000.0  1.128296    0.668685  111.842705       NaN\n",
            "2016-12-05  104.541748   34324500.0  1.631380   -0.809090  110.970810       NaN\n",
            "2016-12-06  105.346558   26195500.0  1.064118    0.410956  111.286987       NaN\n",
            "2016-12-07  106.381355   29998700.0  1.828334    1.619986  111.162437       NaN\n",
            "2016-12-08  107.425720   27068300.0  1.632181    1.136571  111.727715       NaN\n",
            "2016-12-09  109.179115   34402600.0  2.097411    1.460243  112.973305       NaN\n",
            "2016-12-12  108.556305   26374400.0  2.215359    0.008829  114.008080       NaN\n",
            "2016-12-13  110.367195   43733800.0  1.883842    1.185880  114.123047       NaN\n",
            "2016-12-14  110.367195   34031800.0  1.059114    0.130391  114.736275       NaN\n",
            "2016-12-15  110.970810   46524500.0  1.295113    0.381351         NaN       NaN\n",
            "2016-12-16  111.114532   44351100.0  0.732947   -0.429295         NaN       NaN\n",
            "2016-12-19  111.756470   27779400.0  1.397460    0.725385         NaN       NaN\n",
            "2016-12-20  112.053490   21425000.0  0.701154    0.179886         NaN       NaN\n",
            "2016-12-21  112.158890   23783200.0  0.529645    0.222598         NaN       NaN\n",
            "2016-12-22  111.421135   26085900.0  0.748132   -0.051566         NaN       NaN\n",
            "2016-12-23  111.641487   14249500.0  0.798147    0.804568         NaN       NaN\n",
            "2016-12-27  112.350517   18296900.0  1.117180    0.635089         NaN       NaN\n",
            "2016-12-28  111.871452   20905900.0  1.558753   -0.646694         NaN       NaN\n",
            "2016-12-29  111.842705   15039500.0  0.608240    0.240452         NaN       NaN\n",
            "2016-12-30  110.970810   30586300.0  1.528231   -0.711532         NaN       NaN\n",
            "2017-01-03  111.286987   28781900.0  1.351700    0.302244         NaN       NaN\n",
            "2017-01-04  111.162437   21118100.0  0.655061    0.146740         NaN       NaN\n",
            "2017-01-05  111.727715   22193600.0  0.900440    0.595240         NaN       NaN\n",
            "2017-01-06  112.973305   31751900.0  1.433299    0.967636         NaN       NaN\n",
            "2017-01-09  114.008080   33561900.0  1.252204    0.881730         NaN       NaN\n",
            "2017-01-10  114.123047   24462100.0  0.906720    0.286271         NaN       NaN\n",
            "2017-01-11  114.736275   27588600.0  1.110649    0.850600         NaN       NaN\n",
            "\n",
            "[1769 rows x 6 columns]\n"
          ],
          "name": "stdout"
        }
      ]
    },
    {
      "cell_type": "markdown",
      "metadata": {
        "id": "5MFe6Imjo3Pu",
        "colab_type": "text"
      },
      "source": [
        "### Setup the other predictors"
      ]
    },
    {
      "cell_type": "code",
      "metadata": {
        "id": "ArbsN2j6o7_B",
        "colab_type": "code",
        "colab": {}
      },
      "source": [
        "forecast_set_poly2 = clfpoly2.predict(X_lately)\n",
        "forecast_set_poly3 = clfpoly3.predict(X_lately)\n",
        "forecast_set_knn = clfknn.predict(X_lately)\n"
      ],
      "execution_count": 0,
      "outputs": []
    },
    {
      "cell_type": "markdown",
      "metadata": {
        "id": "j341RSqGVokL",
        "colab_type": "text"
      },
      "source": [
        "# Linear Regression Graph\n"
      ]
    },
    {
      "cell_type": "code",
      "metadata": {
        "id": "ss191eC_VTLD",
        "colab_type": "code",
        "colab": {}
      },
      "source": [
        "last_date = dfreg.iloc[-1].name\n",
        "last_unix = last_date\n",
        "next_unix = last_unix + datetime.timedelta(days=1)\n",
        "\n",
        "next_date_original = next_date\n",
        "\n",
        "# for i in forecast_set:\n",
        "#     next_date = next_unix\n",
        "#     next_unix += datetime.timedelta(days=1)\n",
        "#     dfreg.loc[next_date] = [np.nan for _ in range(len(dfreg.columns)-1)]+[i]\n",
        "# dfreg['Adj Close'].tail(500).plot()\n",
        "# dfreg['Forecast'].tail(500).plot()\n",
        "# plt.legend(loc=4)\n",
        "# plt.xlabel('Date')\n",
        "# plt.ylabel('Price')\n",
        "# plt.show()"
      ],
      "execution_count": 0,
      "outputs": []
    },
    {
      "cell_type": "markdown",
      "metadata": {
        "id": "c9IlZZ_AnZXp",
        "colab_type": "text"
      },
      "source": [
        "# Quadratic Regression Graph\n"
      ]
    },
    {
      "cell_type": "code",
      "metadata": {
        "id": "jVZL7hHwnQUM",
        "colab_type": "code",
        "colab": {}
      },
      "source": [
        "\n",
        "# next_date = next_date_original\n",
        "\n",
        "# for i in forecast_set_poly2:\n",
        "#     next_date = next_unix\n",
        "#     next_unix += datetime.timedelta(days=1)\n",
        "#     dfreg.loc[next_date] = [np.nan for _ in range(len(dfreg.columns)-1)]+[i]\n",
        "# dfreg['Adj Close'].tail(500).plot()\n",
        "# dfreg['Forecast'].tail(500).plot()\n",
        "# plt.legend(loc=4)\n",
        "# plt.xlabel('Date')\n",
        "# plt.ylabel('Price')\n",
        "# plt.show()"
      ],
      "execution_count": 0,
      "outputs": []
    },
    {
      "cell_type": "code",
      "metadata": {
        "id": "xx-49Bd3nwGJ",
        "colab_type": "code",
        "colab": {}
      },
      "source": [
        "next_date = next_date_original\n",
        "\n",
        "# for i in forecast_set_poly3:\n",
        "#     next_date = next_unix\n",
        "#     next_unix += datetime.timedelta(days=1)\n",
        "#     dfreg.loc[next_date] = [np.nan for _ in range(len(dfreg.columns)-1)]+[i]\n",
        "# dfreg['Adj Close'].tail(500).plot()\n",
        "# dfreg['Forecast'].tail(500).plot()\n",
        "# plt.legend(loc=4)\n",
        "# plt.xlabel('Date')\n",
        "# plt.ylabel('Price')\n",
        "# plt.show()"
      ],
      "execution_count": 0,
      "outputs": []
    },
    {
      "cell_type": "markdown",
      "metadata": {
        "id": "v9ApYc0uoMKJ",
        "colab_type": "text"
      },
      "source": [
        "# KNN Graph"
      ]
    },
    {
      "cell_type": "code",
      "metadata": {
        "id": "6Mztbgh5oDhf",
        "colab_type": "code",
        "colab": {
          "base_uri": "https://localhost:8080/",
          "height": 431
        },
        "outputId": "dc8b3ee8-3e91-417d-fc74-1eed0b416ab5"
      },
      "source": [
        "next_date = next_date_original\n",
        "\n",
        "for i in forecast_set_knn:\n",
        "    next_date = next_unix\n",
        "    next_unix += datetime.timedelta(days=1)\n",
        "    dfreg.loc[next_date] = [np.nan for _ in range(len(dfreg.columns)-1)]+[i]\n",
        "dfreg['Adj Close'].tail(500).plot()\n",
        "dfreg['Forecast'].tail(500).plot()\n",
        "plt.legend(loc=4)\n",
        "plt.xlabel('Date')\n",
        "plt.ylabel('Price')\n",
        "plt.show()"
      ],
      "execution_count": 123,
      "outputs": [
        {
          "output_type": "display_data",
          "data": {
            "image/png": "[encoded data removed]",
            "text/plain": [
              "<Figure size 576x504 with 1 Axes>"
            ]
          },
          "metadata": {
            "tags": []
          }
        }
      ]
    },
    {
      "cell_type": "code",
      "metadata": {
        "id": "Yu31FuPyoGAy",
        "colab_type": "code",
        "colab": {}
      },
      "source": [
        ""
      ],
      "execution_count": 0,
      "outputs": []
    }
  ]
}